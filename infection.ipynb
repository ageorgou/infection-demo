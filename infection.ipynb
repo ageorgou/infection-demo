{
  "cells": [
    {
      "cell_type": "code",
      "execution_count": null,
      "metadata": {
        "id": "yRFCfhgO-G1E"
      },
      "outputs": [],
      "source": [
        "import numpy as np\n",
        "import matplotlib.pyplot as plt"
      ]
    },
    {
      "cell_type": "markdown",
      "source": [
        ""
      ],
      "metadata": {
        "id": "5mwgRje5-eJN"
      }
    },
    {
      "cell_type": "markdown",
      "source": [
        "## How to run this\n",
        "Instructions."
      ],
      "metadata": {
        "id": "Ze1pDoDNAp8o"
      }
    },
    {
      "cell_type": "markdown",
      "source": [
        "## Simulation parameters\n",
        "We define some general parameters that will control the simulation. Altering these values can give very different results."
      ],
      "metadata": {
        "id": "Qt1iJBe0-gGf"
      }
    },
    {
      "cell_type": "code",
      "execution_count": null,
      "metadata": {
        "id": "iSOmiaec-G1H"
      },
      "outputs": [],
      "source": [
        "# Parameters that control the simulation\n",
        "population_size = 100\n",
        "rate_per_infected_contact = 0.2  # 20% chance of becoming infected per infected contact\n",
        "duration_of_infectivity = 2  #  Assume 2 time periods (this needs to be >1)\n",
        "contact_number_parameter = 8  # Parameter determining the distribution of number of contacts per person\n",
        "initial_prevalence_in_contacts = 0.0  # No contacts are infected at time 0 at start of the simulation\n",
        "simulation_time = 20  # How many steps to simulate the population for"
      ]
    },
    {
      "cell_type": "markdown",
      "source": [
        "## Personal characteristics\n",
        "Here we list which attributes we want to track for each person in the population.\n",
        "These include facts about their infection status:\n",
        "- are they infected or not\n",
        "- is this a new infection\n",
        "- when were they infected\n",
        "- have they ever been infected in the past\n",
        "\n",
        "as well their contacts:\n",
        "- how many people this person is in contact with\n",
        "- how many of those contacts are infected"
      ],
      "metadata": {
        "id": "HIKU_u-c-4SV"
      }
    },
    {
      "cell_type": "code",
      "execution_count": null,
      "metadata": {
        "id": "akBKvhtb-G1J"
      },
      "outputs": [],
      "source": [
        "class Person:\n",
        "    def __init__(self):\n",
        "        \"\"\"Initialise a new person.\"\"\"\n",
        "        self.infected = False\n",
        "        self.time_of_infection = None\n",
        "        self.ever_infected = False\n",
        "        self.new_infection = False\n",
        "\n",
        "        self.contacts = np.random.poisson(contact_number_parameter) \n",
        "        self.infected_contacts = 0"
      ]
    },
    {
      "cell_type": "code",
      "execution_count": null,
      "metadata": {
        "id": "3-JKQ_4O-G1K"
      },
      "outputs": [],
      "source": [
        "def initialise_population(population_size):\n",
        "    \"\"\"Create a population with only one person infected.\"\"\"\n",
        "    population = [Person() for _ in range(population_size)]\n",
        "    infect(population[0], 0)\n",
        "    return population\n",
        "\n",
        "\n",
        "def infect(person, time):\n",
        "    person.infected = True\n",
        "    person.time_of_infection = time\n",
        "    person.ever_infected = True\n",
        "    person.new_infection = True\n",
        "    #person.contacts_if_infected = person.contacts"
      ]
    },
    {
      "cell_type": "markdown",
      "source": [
        "## Summary metrics for the population\n",
        "At every step of the simulation, we compute some metrics across the whole population. "
      ],
      "metadata": {
        "id": "DQFxr6Hb_wsp"
      }
    },
    {
      "cell_type": "code",
      "execution_count": null,
      "metadata": {
        "id": "ekjGVYpT-G1L"
      },
      "outputs": [],
      "source": [
        "def summarise(population):\n",
        "    stats = {\n",
        "        \"contacts\": sum(person.contacts for person in population),\n",
        "        \"contacts_if_infected\":  sum(person.contacts for person in population if person.infected),\n",
        "        \"infected\": sum(person.infected for person in population),\n",
        "        \"new_infections\": sum(person.new_infection for person in population)\n",
        "    }\n",
        "    stats[\"prevalence_in_contacts\"] = stats[\"contacts_if_infected\"] / stats[\"contacts\"]\n",
        "    return stats\n"
      ]
    },
    {
      "cell_type": "code",
      "execution_count": null,
      "metadata": {
        "id": "1WsUbpMe-G1M"
      },
      "outputs": [],
      "source": [
        "def update(population, time):\n",
        "    # Compute the prevalence of infection among contacts\n",
        "    # by inspecting the status of the population\n",
        "    if time == 1:\n",
        "        # At the start of the simulation, use a predefined value as we have no data\n",
        "        prevalence_in_contacts = initial_prevalence_in_contacts\n",
        "    else:\n",
        "        prevalence_in_contacts = (\n",
        "            sum(person.contacts for person in population if person.infected)\n",
        "            / sum(person.contacts for person in population)\n",
        "        )\n",
        "\n",
        "    for person in population:\n",
        "        person.new_infection = False\n",
        "\n",
        "        if not person.infected and not person.ever_infected:\n",
        "            # Calculate number of infected contacts\n",
        "            for i in range(person.contacts):\n",
        "                e = np.random.uniform()\n",
        "                if e < prevalence_in_contacts:\n",
        "                    person.infected_contacts = person.infected_contacts + 1\n",
        "            # Risk of infection per infected contact\n",
        "            for i in range(person.infected_contacts):\n",
        "                e = np.random.uniform()\n",
        "                if e < rate_per_infected_contact:\n",
        "                    infect(person, time)\n",
        "                    # Once a person is infected in the loop above, we jump out\n",
        "                    # of the loop because we dont need to go through additional\n",
        "                    # infected contacts to see if they led to transmission\n",
        "                    break\n",
        "        \n",
        "        if person.infected:\n",
        "            # infected_contacts exists only for those without infection\n",
        "            # TODO: Do we need this?\n",
        "            person.infected_contacts = None\n",
        "            # Amongst those infected, set infected back to once they have been infected\n",
        "            # for duration of infectivity as no longer infectious after this\n",
        "            if (time - person.time_of_infection) == duration_of_infectivity:\n",
        "                person.infected = False\n",
        "                person.time_of_infection = None\n",
        "\n",
        "        # contacts_if_infected is the number of contacts a person with infection has\n",
        "        # TODO: Can instead happen in the initialisation and the loss of infection above?\n",
        "        person.contacts_if_infected = person.contacts if person.infected else 0\n"
      ]
    },
    {
      "cell_type": "code",
      "execution_count": null,
      "metadata": {
        "id": "9XK0VxEm-G1N"
      },
      "outputs": [],
      "source": [
        "def simulate(population_size):\n",
        "    results = []  # the outputs we will compute\n",
        "    population = initialise_population(population_size)\n",
        "    results.append(summarise(population))\n",
        "    for t in range(1, simulation_time):\n",
        "        update(population, t)\n",
        "        results.append(summarise(population))\n",
        "    return results"
      ]
    },
    {
      "cell_type": "code",
      "execution_count": null,
      "metadata": {
        "id": "JKs4jZcx-G1O"
      },
      "outputs": [],
      "source": [
        "def plot_results(results):\n",
        "    times = range(0, simulation_time)\n",
        "    plt.plot(times, [result[\"infected\"] for result in results], 'x-', label='Total active')\n",
        "    plt.plot(times, [result[\"new_infections\"] for result in results], 'o-', label='New')\n",
        "    plt.xlabel(\"Time\")\n",
        "    plt.ylabel(\"Number\")\n",
        "    plt.title(\"Infections\")\n",
        "    plt.legend()\n",
        "    plt.show()\n"
      ]
    },
    {
      "cell_type": "code",
      "execution_count": null,
      "metadata": {
        "id": "Jrqq-7n9-G1P"
      },
      "outputs": [],
      "source": [
        "results = simulate(population_size)"
      ]
    },
    {
      "cell_type": "code",
      "execution_count": null,
      "metadata": {
        "colab": {
          "base_uri": "https://localhost:8080/",
          "height": 295
        },
        "id": "5xqtuIPZ-G1Q",
        "outputId": "ad2c668c-18d4-46f2-d23e-7298d0067d9e"
      },
      "outputs": [
        {
          "output_type": "display_data",
          "data": {
            "text/plain": [
              "<Figure size 432x288 with 1 Axes>"
            ],
            "image/png": "[encoded data removed]"
          },
          "metadata": {
            "needs_background": "light"
          }
        }
      ],
      "source": [
        "plot_results(results)"
      ]
    }
  ],
  "metadata": {
    "kernelspec": {
      "display_name": "Python 3",
      "language": "python",
      "name": "python3"
    },
    "language_info": {
      "codemirror_mode": {
        "name": "ipython",
        "version": 3
      },
      "file_extension": ".py",
      "mimetype": "text/x-python",
      "name": "python",
      "nbconvert_exporter": "python",
      "pygments_lexer": "ipython3",
      "version": "3.7.9"
    },
    "colab": {
      "name": "infection.ipynb",
      "provenance": []
    }
  },
  "nbformat": 4,
  "nbformat_minor": 0
}